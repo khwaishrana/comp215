{
  "cells": [
    {
      "cell_type": "markdown",
      "metadata": {
        "collapsed": true,
        "id": "JR_9eeigl5Vi",
        "pycharm": {
          "name": "#%% md\n"
        }
      },
      "source": [
        "COMP 215 - LAB 6 (Game of Life)\n",
        "-----------------------------------------------\n",
        "#### Name:\n",
        "#### Date:\n",
        "\n",
        "This lab exercise is an introduction to [Conway's Game of Life](https://en.wikipedia.org/wiki/Conway%27s_Game_of_Life) discovered and studied by [John Conway](https://en.wikipedia.org/wiki/John_Horton_Conway).\n",
        "\n",
        "**New Python concepts**:\n",
        "   * 2D numpy [array](https://numpy.org/doc/stable/reference/generated/numpy.array.html)\n",
        "   * basic [array operations](https://www.pluralsight.com/guides/overview-basic-numpy-operations)\n",
        "\n",
        "**New Computation concepts**:\n",
        "   * [2D sliding dot product](https://docs.scipy.org/doc/scipy/reference/generated/scipy.signal.correlate2d.html)\n",
        "   * [Animation](https://matplotlib.org/stable/api/animation_api.html)\n",
        "\n",
        "**Credits**:\n",
        "    Code examples based on [Think Complexity, 2nd edition](https://thinkcomplex.com).\n",
        "    Copyright 2016 Allen Downey, [MIT License](http://opensource.org/licenses/MIT)\n",
        "\n",
        "As usual, the first code cell simply imports all the modules we'll be using..."
      ]
    },
    {
      "cell_type": "code",
      "execution_count": 30,
      "metadata": {
        "ExecuteTime": {
          "end_time": "2024-01-06T00:59:30.713969Z",
          "start_time": "2024-01-06T00:59:29.426998Z"
        },
        "id": "aXEYCXADl5Vj",
        "pycharm": {
          "name": "#%%\n"
        }
      },
      "outputs": [],
      "source": [
        "import time\n",
        "import matplotlib\n",
        "import matplotlib.pyplot as plt\n",
        "from matplotlib import animation\n",
        "import numpy as np\n",
        "from scipy.signal import correlate2d\n",
        "\n",
        "%matplotlib inline\n",
        "# Configure matplotlib's animation library to work in the browser.\n",
        "matplotlib.rc('animation', html='jshtml')"
      ]
    },
    {
      "cell_type": "markdown",
      "metadata": {
        "collapsed": false,
        "id": "Vhcz38ROl5Vj",
        "pycharm": {
          "name": "#%% md\n"
        }
      },
      "source": [
        "A reusable function for plotting 2D numpy.array as an image..."
      ]
    },
    {
      "cell_type": "code",
      "execution_count": 31,
      "metadata": {
        "ExecuteTime": {
          "end_time": "2024-01-06T00:59:30.719129Z",
          "start_time": "2024-01-06T00:59:30.716251Z"
        },
        "id": "wehF3xozl5Vk",
        "pycharm": {
          "name": "#%%\n"
        }
      },
      "outputs": [],
      "source": [
        "def plot_2d_array(array, axes=None, title='', cmap='Blues', **options):\n",
        "    \"\"\"\n",
        "    Plot the 2D array as an image on the given axes  1's will be dark blue, 0's will be light blue.\n",
        "\n",
        "    :param axes: the axes to plot on, or None to use the `plt.gca()` (current axes)\n",
        "    :param options: keyword arguments passed directly to `plt.imshow()`\n",
        "           see https://matplotlib.org/stable/api/_as_gen/matplotlib.axes.Axes.imshow.html\n",
        "    \"\"\"\n",
        "    axes = axes or plt.gca()  # If not axes are provided, draw on current axes\n",
        "    axes.set_title(title)\n",
        "    # Turn off axes labels and tick marks\n",
        "    axes.tick_params(axis='both', which='both', bottom=False, top=False, left=False, right=False ,\n",
        "                     labelbottom=False, labeltop=False, labelleft=False, labelright=False,)\n",
        "    # Defaults for displaying a \"matrix\" with hard-pixel boundaries and (0,0) at top-left\n",
        "    options = {**dict(interpolation='nearest', origin='upper'), **options}\n",
        "    axes.imshow(array, cmap=cmap, **options)"
      ]
    },
    {
      "cell_type": "markdown",
      "metadata": {
        "collapsed": false,
        "id": "HEq73Cb4l5Vk",
        "pycharm": {
          "name": "#%% md\n"
        }
      },
      "source": [
        "## Life Fundamentals\n",
        "Both the textbook and our week6 notebooks develop some fundamental operations for simulating the Game of Life.\n",
        "Some of the code from `week6.ipynb` is reproduced here without deriving all the ideas - review `week6.ipynb` notebook for the full story.\n",
        "The sliding dot product algorithm in `step` is implemented with [scipy.signal.correlate2d](https://docs.scipy.org/doc/scipy/reference/generated/scipy.signal.correlate2d.html).  It's behaviour is identical to the derivation in `week6.ipynb`.\n",
        "\n",
        "#### Notes\n",
        "* we use `correlate2d(state, kernel, mode='same', boundary='wrap')` to pad state matrix with 1 value around perimeter from the opposite side of the matrix.\n",
        "* since the rule is a 1D `np.array`, we use \"vector indexing\" here to set the 'live' state transitions:  `next_state[[3, 12, 13]] = 1`"
      ]
    },
    {
      "cell_type": "code",
      "execution_count": 32,
      "metadata": {
        "ExecuteTime": {
          "end_time": "2024-01-06T00:59:30.722229Z",
          "start_time": "2024-01-06T00:59:30.719978Z"
        },
        "id": "ds9nXQUGl5Vk",
        "pycharm": {
          "name": "#%%\n"
        }
      },
      "outputs": [],
      "source": [
        "class Life2D:\n",
        "    \"\"\" An basic 2D Cellular Automata that implementes Conway's Game of Life \"\"\"\n",
        "    kernel = np.array([[1, 1, 1],\n",
        "                       [1, 10, 1],\n",
        "                       [1, 1, 1]])\n",
        "\n",
        "    next_state = np.zeros(19, dtype=np.uint8)\n",
        "    next_state[[3, 12, 13]] = 1\n",
        "\n",
        "    def __init__(self, n_rows, n_cols=None):\n",
        "        \"\"\" Construct a n_rows x n_cols 2D CA \"\"\"\n",
        "        n_cols = n_cols or n_rows  # i.e., n_cols if n_cols is not None and n_cols != 0 else n_rows\n",
        "        self.state = np.zeros(shape=(n_rows, n_cols), dtype=np.uint8)\n",
        "\n",
        "    def step(self):\n",
        "        \"\"\"Executes one time step. \"\"\"\n",
        "        transitions = correlate2d(self.state, self.kernel, mode='same', boundary='wrap')\n",
        "        self.state = self.next_state[transitions]\n",
        "\n",
        "    def draw(self, axes=None, step=''):\n",
        "        axes = axes or plt.gca()   # use pyplot's current axes if none are provided.\n",
        "        plot_2d_array(self.state, axes, title=f\"Conway's Game of Life {step}\")"
      ]
    },
    {
      "cell_type": "markdown",
      "metadata": {
        "collapsed": false,
        "id": "eMcxFzLll5Vk",
        "pycharm": {
          "name": "#%% md\n"
        }
      },
      "source": [
        "### Visualizing a 2D simulation model\n",
        "For 1D CAs, we could use a 2D image to visualize the CA progression over time.\n",
        "For 2D CAs, we could try using time as a 3rd axis to generate a 3D visualziation, but without VR, its hard to explore a 3D visualization.\n",
        "Instead, we'll use a simple 2D [\"stop motion\" animation](https://en.wikipedia.org/wiki/Animation).\n",
        "Here is a generic class that animates any 2D model that provides step() and draw() methods, and uses matplotlib to render its state.\n",
        "\n",
        "See [Matplotlib animation in Jupyter](https://www.allendowney.com/blog/2019/07/25/matplotlib-animation-in-jupyter/) by our textbook author for a discussion of the pros and cons of various animation techniques in jupyter notebooks."
      ]
    },
    {
      "cell_type": "code",
      "execution_count": 33,
      "metadata": {
        "ExecuteTime": {
          "end_time": "2024-01-06T00:59:30.727443Z",
          "start_time": "2024-01-06T00:59:30.724530Z"
        },
        "id": "z4-HGpu_l5Vk",
        "pycharm": {
          "name": "#%%\n"
        }
      },
      "outputs": [],
      "source": [
        "class Animation2D:\n",
        "    \"\"\"\n",
        "      Animates any 2D model with a step() method and a draw() method, using matplotlib\n",
        "      model.step() should take no parameters - just step the model forward one step.\n",
        "      model.draw() should take 2 parameters, the matpltolib axes to draw on and an integer step number\n",
        "    \"\"\"\n",
        "\n",
        "    def __init__(self, model, frames=50, figsize=(8, 8)):\n",
        "        \"\"\"\n",
        "        :param model: the simulation object to animate, with step() and draw(axes, step) methods\n",
        "        :param frames: number of animation frames to generate\n",
        "        \"\"\"\n",
        "        self.model = model\n",
        "        self.frames = frames\n",
        "        self.fig, self.ax = plt.subplots(figsize=figsize)\n",
        "\n",
        "    def animation_step(self, step):\n",
        "        \"\"\" Step the model forward and draw the plot \"\"\"\n",
        "        if step > 0:\n",
        "            self.model.step()\n",
        "        self.model.draw(self.ax, step=step)\n",
        "\n",
        "    def show(self):\n",
        "        \"\"\" return the matplotlib animation object, ready for display \"\"\"\n",
        "        anim = animation.FuncAnimation(self.fig, self.animation_step, frames=self.frames)\n",
        "        plt.close()  # this ensures the last frame is not shown as a separate plot\n",
        "        return anim\n",
        "\n",
        "    def animate(self, interval=None):\n",
        "        \"\"\" Animate the model simulation directly in the notebook display block \"\"\"\n",
        "        from IPython.display import clear_output\n",
        "        try:\n",
        "            for i in range(self.frames):\n",
        "                clear_output(wait=True)  # clear the IPython display\n",
        "                self.ax.clear()          # clear old image from the axes (fixes a performance issue)\n",
        "                plt.figure(self.fig)     # add the figure back to pyplot ** sigh **\n",
        "                self.animation_step(i)\n",
        "                plt.show()               # show the current animation frame (pyplot then closes and throws away figure ** sigh **)\n",
        "                if interval:\n",
        "                    time.sleep(interval)\n",
        "        except KeyboardInterrupt:\n",
        "            pass"
      ]
    },
    {
      "cell_type": "markdown",
      "metadata": {
        "collapsed": false,
        "id": "_M9D2Ms7l5Vk",
        "pycharm": {
          "name": "#%% md\n"
        }
      },
      "source": [
        "### Sample usage\n",
        "Animate a single glider..."
      ]
    },
    {
      "cell_type": "code",
      "execution_count": 34,
      "metadata": {
        "colab": {
          "base_uri": "https://localhost:8080/",
          "height": 675
        },
        "id": "IPx3yfAVl5Vl",
        "outputId": "64ab7756-be29-4e54-d205-e8984e6fb37d",
        "pycharm": {
          "name": "#%%\n"
        }
      },
      "outputs": [
        {
          "data": {
            "image/png": "[encoded data removed]",
            "text/plain": [
              "<Figure size 800x800 with 1 Axes>"
            ]
          },
          "metadata": {},
          "output_type": "display_data"
        }
      ],
      "source": [
        "size = 10\n",
        "life = Life2D(size)\n",
        "glider = np.array([[0, 1, 0], [0, 0, 1], [1, 1, 1]], dtype=np.uint8)\n",
        "life.state[1:4, 2:5] = glider             # bad idea to alter an objects state directly!  We'll improve it in Ex. 3\n",
        "gol = Animation2D(life, frames=20)\n",
        "gol.animate()"
      ]
    },
    {
      "cell_type": "markdown",
      "metadata": {
        "collapsed": false,
        "id": "EGnc-wRJl5Vl"
      },
      "source": [
        "## Exercise 1:  Enumerate all Elementary 2D CA's\n",
        "Write a line or 2 of code to compute and print the answer for each question:\n",
        "* how many unique states are there for a 3x3 (9 cell) neighbourhood?\n",
        "* how many unique “rules” are there? (where a rule provides a mapping for each possible neighbourhood state to the output for the centre cell)\n",
        "* how does this number compare, for example, to the [number of atoms in the observable universe?](https://en.wikipedia.org/wiki/Observable_universe#Matter_content%E2%80%94number_of_atoms)"
      ]
    },
    {
      "cell_type": "code",
      "execution_count": 6,
      "metadata": {
        "ExecuteTime": {
          "end_time": "2024-01-06T00:59:32.380370Z",
          "start_time": "2024-01-06T00:59:32.378662Z"
        },
        "colab": {
          "base_uri": "https://localhost:8080/"
        },
        "id": "C5Vg1SV_l5Vl",
        "outputId": "f665c394-b1e0-49c6-e6b9-00051d5d85a0",
        "pycharm": {
          "name": "#%%\n"
        }
      },
      "outputs": [
        {
          "name": "stdout",
          "output_type": "stream",
          "text": [
            "Unique states for a 3x3 neighborhood: 512\n",
            "Number of unique rules: 13407807929942597099574024998205846127479365820592393377723561443721764030073546976801874298166903427690031858186486050853753882811946569946433649006084096\n",
            "Rules exceed number of atoms in the universe: True\n"
          ]
        }
      ],
      "source": [
        "# Ex. 1 your code here...\n",
        "# Number of unique states for a 3x3 neighborhood (each cell can be alive or dead)\n",
        "num_states = 2 ** 9  # 2^9 possible configurations\n",
        "\n",
        "# Number of unique rules (each state maps to an output cell state)\n",
        "num_rules = 2 ** num_states  # Each configuration can map to alive or dead\n",
        "\n",
        "# Approximate number of atoms in the observable universe (from Wikipedia)\n",
        "num_atoms_universe = 10**80\n",
        "\n",
        "# Print the results\n",
        "print(\"Unique states for a 3x3 neighborhood:\", num_states)\n",
        "print(\"Number of unique rules:\", num_rules)\n",
        "print(\"Rules exceed number of atoms in the universe:\", num_rules > num_atoms_universe)\n"
      ]
    },
    {
      "cell_type": "markdown",
      "metadata": {
        "collapsed": false,
        "id": "2SHEsEhql5Vl",
        "pycharm": {
          "name": "#%% md\n"
        }
      },
      "source": [
        "Using what you learned above, concisely answer each question below (point form)1\n",
        "1. would it be a reasonable goal to conduct an experiment like Wolfram’s for 2D CA’s?\n",
        "2. propose a numbering scheme for these rules, analogous to Wolfram’s rule numbers\n",
        "3. how might we go about determining which rule number corresponds to Conway’s GoL?\n",
        "   (I’m not asking for the number, but rather for a method you could use to find it.)"
      ]
    },
    {
      "cell_type": "markdown",
      "metadata": {
        "collapsed": false,
        "id": "l90cNuZrl5Vl"
      },
      "source": [
        "#### Ex 1. Your Answers\n",
        "\n",
        "1. no, its impractical due to sheer no. of possible rules.\n",
        "* in 1D ,2^8 = 256 feasible\n",
        "* in 2D ,2^512 ~ 10^154\n",
        "2. representing each nieighbour as a 9 bit binaty no. ,\n",
        "* mapping where each of 512 possible inputs corresponds to either 0 or 1,\n",
        "* Convert the resulting 512-bit sequence into a large decimal number, like Wolfram’s rule numbering in 1D CA.\n",
        "3. List all 512 possible 3×3 neighborhood states.\n",
        "* Apply Conway’s rules\n",
        "* convert this binary seq. into decimal no. to get GoL's ruel no."
      ]
    },
    {
      "cell_type": "markdown",
      "metadata": {
        "collapsed": false,
        "id": "-P8e_MVIl5Vl",
        "pycharm": {
          "name": "#%% md\n"
        }
      },
      "source": [
        "## Exercise 2: random_life\n",
        "Extend the Life2D class defined above to allow the game to be initialized with a random start state.\n",
        "The liklihood of any given cell being initialized to \"alive\" is given by $p$.\n",
        "*Hint*: we did this exact exercise for a 1D array in previous lab"
      ]
    },
    {
      "cell_type": "code",
      "execution_count": 35,
      "metadata": {
        "ExecuteTime": {
          "end_time": "2024-01-06T00:59:32.383669Z",
          "start_time": "2024-01-06T00:59:32.381110Z"
        },
        "colab": {
          "base_uri": "https://localhost:8080/",
          "height": 531
        },
        "id": "w4cpfDudl5Vl",
        "outputId": "99ad3754-37ba-474b-dfa9-0b3066d34c86",
        "pycharm": {
          "name": "#%%\n"
        }
      },
      "outputs": [
        {
          "name": "stdout",
          "output_type": "stream",
          "text": [
            "[[1 0 0 0 1]\n",
            " [0 1 1 0 1]\n",
            " [1 1 1 0 1]\n",
            " [1 1 0 0 1]\n",
            " [1 0 1 0 0]]\n"
          ]
        },
        {
          "data": {
            "image/png": "[encoded data removed]",
            "text/plain": [
              "<Figure size 500x500 with 1 Axes>"
            ]
          },
          "metadata": {},
          "output_type": "display_data"
        }
      ],
      "source": [
        "# Ex. 2 experimental setup\n",
        "\n",
        "class BetterLife2D(Life2D):\n",
        "    \"\"\" Improvements on the basic Life2D model \"\"\"\n",
        "\n",
        "    def __init__(self, n_rows, n_cols=None, p=0.5):\n",
        "        \"\"\"Initialize with a random start state where 'alive' cells have probability p.\"\"\"\n",
        "        super().__init__(n_rows, n_cols)\n",
        "        self.randomize_state(p)\n",
        "\n",
        "\n",
        "    def randomize_state(self, p):\n",
        "        \"\"\" Randomize the state of this GoL, where probability of a \"live\" cell is p \"\"\"\n",
        "        # Ex. 2 your code here...\n",
        "        self.state = np.random.choice([0, 1], size=self.state.shape, p=[1 - p, p])\n",
        "\n",
        "\n",
        "\n",
        "def random_life(n_rows, n_cols=None, p=0.5):\n",
        "    \"\"\" Return a Life2D object of given dimensions with initial randomized state where \"live\" cells have probability p \"\"\"\n",
        "    # Ex. 2 your code here...\n",
        "    return BetterLife2D(n_rows, n_cols, p)\n",
        "\n",
        "test_better_life = random_life(n_rows=5, n_cols=5, p=0.4)  # 40% probability of a cell being alive\n",
        "print(test_better_life.state)\n",
        "# Draw the initial state\n",
        "fig, ax = plt.subplots(figsize=(5, 5))\n",
        "test_better_life.draw(ax, step=\"BetterLife2D Initial State\")\n",
        "plt.show()\n"
      ]
    },
    {
      "cell_type": "code",
      "execution_count": 36,
      "metadata": {
        "colab": {
          "base_uri": "https://localhost:8080/",
          "height": 675
        },
        "id": "U_ymfLZoCX3g",
        "outputId": "5f2e9d65-ea36-43e4-bbb3-5992d16af758"
      },
      "outputs": [
        {
          "data": {
            "image/png": "[encoded data removed]",
            "text/plain": [
              "<Figure size 800x800 with 1 Axes>"
            ]
          },
          "metadata": {},
          "output_type": "display_data"
        }
      ],
      "source": [
        "# testing the for animation\n",
        "size = 10\n",
        "better_life = BetterLife2D(size, p=0.3)  # 30% probability of alive cells\n",
        "glider = np.array([[0, 1, 0], [0, 0, 1], [1, 1, 1]], dtype=np.uint8)\n",
        "life.state[1:4, 2:5] = glider\n",
        "gol_animation = Animation2D(better_life, frames=20)\n",
        "gol_animation.animate()\n"
      ]
    },
    {
      "cell_type": "markdown",
      "metadata": {
        "collapsed": false,
        "id": "Zt5mQ0PVl5Vl",
        "pycharm": {
          "name": "#%% md\n"
        }
      },
      "source": [
        "### Experiment\n",
        "Run a small experiment to see if you can identify any relationship between $p$, the probability of a live cell in the initial grid, and the time it takes for the GoL pattern to stabilize."
      ]
    },
    {
      "cell_type": "code",
      "execution_count": 37,
      "metadata": {
        "ExecuteTime": {
          "end_time": "2024-01-06T00:59:32.386367Z",
          "start_time": "2024-01-06T00:59:32.383563Z"
        },
        "colab": {
          "base_uri": "https://localhost:8080/",
          "height": 504
        },
        "id": "Obsdq4Pyl5Vl",
        "outputId": "baf527a2-cd86-4d22-ba52-0f9fcef22d10",
        "pycharm": {
          "name": "#%%\n"
        }
      },
      "outputs": [
        {
          "name": "stdout",
          "output_type": "stream",
          "text": [
            "{0.1: 80.8, 0.3: 100.0, 0.5: 94.6, 0.7: 62.4, 0.9: 2.0}\n"
          ]
        },
        {
          "data": {
            "image/png": "[encoded data removed]",
            "text/plain": [
              "<Figure size 800x500 with 1 Axes>"
            ]
          },
          "metadata": {},
          "output_type": "display_data"
        }
      ],
      "source": [
        "import time\n",
        "\n",
        "def measure_stabilization_time(n_rows, n_cols, p, max_steps=100):\n",
        "\n",
        "    life = BetterLife2D(n_rows, n_cols, p)\n",
        "    prev_state = None\n",
        "\n",
        "    for step in range(1, max_steps + 1):\n",
        "        prev_state = life.state.copy()\n",
        "        life.step()\n",
        "\n",
        "        # Check if the grid has stabilized (no changes from the previous step)\n",
        "        if np.array_equal(prev_state, life.state):\n",
        "            return step\n",
        "\n",
        "    return max_steps  # Return max_steps if no stabilization occurs\n",
        "\n",
        "\n",
        "# Experiment parameters\n",
        "grid_size = 20  # 20x20 grid\n",
        "probabilities = [0.1, 0.3, 0.5, 0.7, 0.9]  # Different initial live cell probabilities\n",
        "num_trials = 5  # Repeat each test multiple times for accuracy\n",
        "\n",
        "# Collect results\n",
        "stabilization_results = {}\n",
        "\n",
        "for p in probabilities:\n",
        "    times = [measure_stabilization_time(grid_size, grid_size, p) for _ in range(num_trials)]\n",
        "    stabilization_results[p] = np.mean(times)  # Average stabilization time\n",
        "\n",
        "# Display results\n",
        "print(stabilization_results)\n",
        "\n",
        "# Plot results\n",
        "plt.figure(figsize=(8, 5))\n",
        "plt.plot(stabilization_results.keys(),stabilization_results.values(), marker='o', linestyle='-')\n",
        "plt.xlabel(\"Initial Live Cell Probability (p)\")\n",
        "plt.ylabel(\"Steps to Stabilization\")\n",
        "plt.title(\"Effect of Initial Live Cell Probability on Stabilization Time in Game of Life\")\n",
        "plt.grid()\n",
        "plt.show()"
      ]
    },
    {
      "cell_type": "markdown",
      "metadata": {
        "collapsed": false,
        "id": "1VtDf5J4l5Vl",
        "pycharm": {
          "name": "#%% md\n"
        }
      },
      "source": [
        "## Exercise 3: Load Patterns\n",
        "People have discovered many interesting [\"patterns\"](https://conwaylife.com/wiki/Category:Patterns) that exhibit various types of behaviours.\n",
        "A \"pattern\" is just a small 2D array.\n",
        " 1. Develop a function that returns a 2D array containing the patterns defined by a single string; and\n",
        " 2. Add a `load_pattern(x, y, pattern)` method to your `BetterLife2D` class above to insert patterns into the Life state array\n",
        "    *Tip*: you can [assign an entire 2D slice of a numpy array](https://www.nickmccullum.com/advanced-python/numpy-indexing-assignment/) in a single assignment statement!   See example in the Sample Usage block above. Try it!"
      ]
    },
    {
      "cell_type": "code",
      "execution_count": null,
      "metadata": {
        "ExecuteTime": {
          "end_time": "2024-01-06T00:59:32.388974Z",
          "start_time": "2024-01-06T00:59:32.385536Z"
        },
        "colab": {
          "base_uri": "https://localhost:8080/",
          "height": 675
        },
        "id": "MFGpuUnql5Vl",
        "outputId": "73af71ba-6bb5-4559-e8a1-3aff30a2dffd",
        "pycharm": {
          "name": "#%%\n"
        }
      },
      "outputs": [
        {
          "data": {
            "image/png": "[encoded data removed]",
            "text/plain": [
              "<Figure size 800x800 with 1 Axes>"
            ]
          },
          "metadata": {},
          "output_type": "display_data"
        }
      ],
      "source": [
        "# Here's an example of the glider pattern from above defined in a single string...\n",
        "glider_pattern = \\\n",
        "    \"\"\"\n",
        "    010\n",
        "    001\n",
        "    111\n",
        "    \"\"\"\n",
        "\n",
        "# Ex. 3 your code here...\n",
        "\n",
        "def parse_pattern(pattern_str):\n",
        "    \"\"\"Convert a pattern string into a 2D NumPy array.\"\"\"\n",
        "    pattern_list = [list(map(int, row.split())) for row in pattern_str.strip().split(\"\\n\")]\n",
        "    return np.array(pattern_list, dtype=np.uint8)\n",
        "\n",
        "class BetterLife2D(Life2D):\n",
        "    \"\"\" Improvements on the basic Life2D model \"\"\"\n",
        "\n",
        "    def __init__(self, n_rows, n_cols=None, p=0.5):\n",
        "        \"\"\"Initialize with a random start state where 'alive' cells have probability p.\"\"\"\n",
        "        super().__init__(n_rows, n_cols)\n",
        "        self.randomize_state(p)\n",
        "\n",
        "\n",
        "    def randomize_state(self, p):\n",
        "        \"\"\" Randomize the state of this GoL, where probability of a \"live\" cell is p \"\"\"\n",
        "        # Ex. 2 your code here...\n",
        "        self.state = np.random.choice([0, 1], size=self.state.shape, p=[1 - p, p])\n",
        "\n",
        "\n",
        "    def load_pattern(self, x, y, pattern_str):\n",
        "        \"\"\"Insert a pattern into the Life grid at (x, y).\"\"\"\n",
        "        pattern = parse_pattern(pattern_str)\n",
        "        rows, cols = pattern.shape\n",
        "\n",
        "        # Ensure the pattern fits within the grid bounds\n",
        "        max_x, max_y = self.state.shape\n",
        "        if x + rows > max_x or y + cols > max_y:\n",
        "            raise ValueError(\"Pattern exceeds grid boundaries!\")\n",
        "\n",
        "        self.state[x:x+rows, y:y+cols] = pattern\n",
        "\n",
        "glider_pattern = \"\"\"\n",
        "0 1 0\n",
        "0 0 1\n",
        "1 1 1\n",
        "\"\"\"\n",
        "\n",
        "blinker_pattern = \"\"\"\n",
        "0 1 0\n",
        "0 1 0\n",
        "0 1 0\n",
        "\"\"\"\n",
        "\n",
        "toad_pattern = \"\"\"\n",
        "0 0 1 1 1\n",
        "1 1 1 0 0\n",
        "\"\"\"\n",
        "\n",
        "spaceship_pattern = \"\"\"\n",
        "0 1 1 1 1\n",
        "1 0 0 0 1\n",
        "0 0 0 1 0\n",
        "\"\"\"\n",
        "\n",
        "\n",
        "grid_size = 100\n",
        "test_life = BetterLife2D(grid_size, p=0.1)\n",
        "\n",
        "# Loading  multiple patterns into different locations\n",
        "test_life.load_pattern(2, 2, blinker_pattern)\n",
        "test_life.load_pattern(5, 3, toad_pattern)\n",
        "test_life.load_pattern(7, 0, spaceship_pattern)\n",
        "\n",
        "# Animating the Game of Life \n",
        "gol_animation = Animation2D(test_life, frames=20)\n",
        "gol_animation.animate(interval=0.3)\n"
      ]
    },
    {
      "cell_type": "markdown",
      "metadata": {
        "collapsed": false,
        "id": "NkFt2Qx4l5Vl",
        "pycharm": {
          "name": "#%% md\n"
        }
      },
      "source": [
        "### Define some patterns\n",
        "User your nifty new function to define a few common, interesting patterns (e.g., from the book or other sources)"
      ]
    },
    {
      "cell_type": "code",
      "execution_count": null,
      "metadata": {
        "ExecuteTime": {
          "end_time": "2024-01-06T00:59:32.389471Z",
          "start_time": "2024-01-06T00:59:32.387944Z"
        },
        "colab": {
          "base_uri": "https://localhost:8080/",
          "height": 675
        },
        "id": "G6iLZ912l5Vl",
        "outputId": "752083a6-5d26-4a31-cf5b-7ab3bf71d2dd",
        "pycharm": {
          "name": "#%%\n"
        }
      },
      "outputs": [
        {
          "data": {
            "image/png": "[encoded data removed]",
            "text/plain": [
              "<Figure size 800x800 with 1 Axes>"
            ]
          },
          "metadata": {},
          "output_type": "display_data"
        }
      ],
      "source": [
        "# Ex. 3 define your patterns here...\n",
        "# Define common patterns\n",
        "\n",
        "glider = \"\"\"\n",
        "010\n",
        "001\n",
        "111\n",
        "\"\"\"\n",
        "\n",
        "blinker = \"\"\"\n",
        "000\n",
        "111\n",
        "000\n",
        "\"\"\"\n",
        "\n",
        "toad = \"\"\"\n",
        "0000\n",
        "0111\n",
        "1110\n",
        "0000\n",
        "\"\"\"\n",
        "\n",
        "beacon = \"\"\"\n",
        "1100\n",
        "1100\n",
        "0011\n",
        "0011\n",
        "\"\"\"\n",
        "\n",
        "pulsar = \"\"\"\n",
        "000000000000000\n",
        "000010001000000\n",
        "000010001000000\n",
        "000010001000000\n",
        "000000000000000\n",
        "000001010100000\n",
        "000000000000000\n",
        "000010001000000\n",
        "000001010100000\n",
        "000010001000000\n",
        "000000000000000\n",
        "000010001000000\n",
        "000010001000000\n",
        "000010001000000\n",
        "000000000000000\n",
        "\"\"\"\n",
        "\n",
        "grid_size = 100\n",
        "test_life = BetterLife2D(grid_size, p=0.1)\n",
        "\n",
        "# Loading  multiple patterns into different locations\n",
        "test_life.load_pattern(2, 2, blinker_pattern)\n",
        "test_life.load_pattern(5, 3, toad_pattern)\n",
        "test_life.load_pattern(7, 0, spaceship_pattern)\n",
        "\n",
        "# Animating the Game of Life \n",
        "gol_animation = Animation2D(test_life, frames=20)\n",
        "gol_animation.animate(interval=0.3)\n"
      ]
    },
    {
      "cell_type": "markdown",
      "metadata": {
        "collapsed": false,
        "id": "DmDsoUlLl5Vm",
        "pycharm": {
          "name": "#%% md\n"
        }
      },
      "source": [
        "### Experiment\n",
        "Load up a BetterLife2D object with some patterns that interact in some interesting way.\n",
        "What can we learn from studying interactions like this?   Is anything here applicable to the real world?"
      ]
    },
    {
      "cell_type": "code",
      "execution_count": 44,
      "metadata": {
        "ExecuteTime": {
          "end_time": "2024-01-06T00:59:32.392005Z",
          "start_time": "2024-01-06T00:59:32.389848Z"
        },
        "colab": {
          "base_uri": "https://localhost:8080/",
          "height": 675
        },
        "id": "kNvtcTxrl5Vm",
        "outputId": "9c117d1e-8163-4825-af0b-ce2325f6878f",
        "pycharm": {
          "name": "#%%\n"
        }
      },
      "outputs": [
        {
          "data": {
            "image/png": "[encoded data removed]",
            "text/plain": [
              "<Figure size 800x800 with 1 Axes>"
            ]
          },
          "metadata": {},
          "output_type": "display_data"
        }
      ],
      "source": [
        "block_pattern = \"\"\"\n",
        "1 1\n",
        "1 1\n",
        "\"\"\"\n",
        "\n",
        "grid_size = 100\n",
        "interactive_life = BetterLife2D(grid_size,p=0.0)\n",
        "\n",
        "interactive_life.load_pattern(2,2,glider)\n",
        "interactive_life.load_pattern(10,10,spaceship_pattern)\n",
        "interactive_life.load_pattern(5,5,blinker_pattern)\n",
        "interactive_life.load_pattern(12,6,toad_pattern)\n",
        "interactive_life.load_pattern(15,15,block_pattern)\n",
        "\n",
        "\n",
        "interactive_animation = Animation2D(test_life, frames=20)\n",
        "interactive_animation.animate(interval=0.3)\n",
        "\n",
        "\n"
      ]
    },
    {
      "cell_type": "markdown",
      "metadata": {
        "id": "rq9QaPHjYOJB"
      },
      "source": [
        "# Things we can learn\n",
        "\n",
        "\n",
        "*   **Emergent complexity** : simple rules can lead to unexpected interactions, like in economics, traffic flow, and social behaviour.\n",
        "*   **Self Organisation** : patterns can stabilize, oscilate or die out much like species in ecosystems.\n",
        "*   **Computation and AI** : The Game of life can simulate logic gates and even full computers.\n",
        "\n"
      ]
    },
    {
      "cell_type": "markdown",
      "metadata": {
        "id": "RZ43QNfMZK1d"
      },
      "source": [
        "# Real-world Applications\n",
        "* **Biology** : Cellular automata models mimic cell growth, cancer spread, and evolution.\n",
        "* **Physics** : The interactions resemble fluid dynamics and wave interference.\n",
        "* **AI and Complexity Science** : self-organizing systems help in machine learning, neural networks and robotics\n",
        "\n"
      ]
    }
  ],
  "metadata": {
    "colab": {
      "provenance": []
    },
    "kernelspec": {
      "display_name": "Python 3",
      "language": "python",
      "name": "python3"
    },
    "language_info": {
      "codemirror_mode": {
        "name": "ipython",
        "version": 2
      },
      "file_extension": ".py",
      "mimetype": "text/x-python",
      "name": "python",
      "nbconvert_exporter": "python",
      "pygments_lexer": "ipython2",
      "version": "2.7.6"
    }
  },
  "nbformat": 4,
  "nbformat_minor": 0
}
