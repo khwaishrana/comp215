{
  "cells": [
    {
      "cell_type": "markdown",
      "metadata": {
        "id": "p1akS3K8dw6B"
      },
      "source": [
        "# **Unit Testing**\n",
        "\n",
        "We will create and test a basic calculator that has only four operations: additon, subtraction, multiplication and division.  This exercise is based on [damorimRG's workbook](https://colab.research.google.com/github/damorimRG/practical_testing_book/blob/master/testgranularity/unittesting.ipynb#scrollTo=ViO48KML_qJL)\n",
        "\n",
        "\n"
      ]
    },
    {
      "cell_type": "code",
      "execution_count": 1,
      "metadata": {
        "id": "tR7QVTHIdxus"
      },
      "outputs": [],
      "source": [
        "import unittest"
      ]
    },
    {
      "cell_type": "code",
      "execution_count": 2,
      "metadata": {
        "id": "8fXwnxpQeC1s"
      },
      "outputs": [],
      "source": [
        "class Calculator:\n",
        "    def __init__(self):\n",
        "        pass\n",
        "\n",
        "    def add(self, a, b):\n",
        "        return a + b\n",
        "\n",
        "    def sub(self, a, b):\n",
        "        return a - b\n",
        "\n",
        "    def mul(self, a, b):\n",
        "        return a * b\n",
        "\n",
        "    def div(self, a, b):\n",
        "        if b != 0:\n",
        "            return a / b"
      ]
    },
    {
      "cell_type": "markdown",
      "metadata": {
        "id": "o6uFhYhzeNKz"
      },
      "source": [
        "Now let us use the `unittest` module to ensure each method is working properly and gives the right output when receiving example inputs.  A test case is created by subclassing `unittest.TestCase`."
      ]
    },
    {
      "cell_type": "code",
      "execution_count": 5,
      "metadata": {
        "id": "Nzn0_p0GeOMn"
      },
      "outputs": [],
      "source": [
        "class TestCalculator(unittest.TestCase):\n",
        "\n",
        "    def test_add(self):\n",
        "        '''Test case function for addition'''\n",
        "        self.calc = Calculator()\n",
        "        result = self.calc.add(4, 7)\n",
        "        expected = 11\n",
        "        self.assertEqual(result, expected)\n",
        "\n",
        "    def test_sub(self):\n",
        "        '''Test case function for subtraction'''\n",
        "        self.calc = Calculator()\n",
        "        result = self.calc.sub(10, 5)\n",
        "        expected = 5\n",
        "        self.assertEqual(result, expected)\n",
        "\n",
        "    @unittest.skip('Some reason')\n",
        "    def test_mul(self):\n",
        "        '''Test case function for multiplication'''\n",
        "        self.calc = Calculator()\n",
        "        result = self.calc.mul(3, 7)\n",
        "        expected = 21\n",
        "        self.assertEqual(result, expected)\n",
        "\n",
        "    def test_div(self):\n",
        "        '''Test case function for division'''\n",
        "        self.calc = Calculator()\n",
        "        result = self.calc.div(10, 2)\n",
        "        expected = 5\n",
        "        self.assertEqual(result, expected)"
      ]
    },
    {
      "cell_type": "markdown",
      "metadata": {
        "id": "NETBL5MneR3O"
      },
      "source": [
        "We created 4 unit tests, each of it is checking a method of the calculator class. These checks are being done through calls to `Assertions`, in this case the `assertEqual` function. Note that, flagging the method `test_mul` with `@unittest.skip('your_reason')` will skip the test for that method.  To run the tests, use:"
      ]
    },
    {
      "cell_type": "code",
      "execution_count": 6,
      "metadata": {
        "colab": {
          "base_uri": "https://localhost:8080/"
        },
        "id": "Ry9XyxnLeXWN",
        "outputId": "84819ab7-747a-4993-e7cc-4b25d481f6fc"
      },
      "outputs": [
        {
          "name": "stderr",
          "output_type": "stream",
          "text": [
            "test_add (__main__.TestCalculator.test_add)\n",
            "Test case function for addition ... ok\n",
            "test_div (__main__.TestCalculator.test_div)\n",
            "Test case function for division ... ok\n",
            "test_mul (__main__.TestCalculator.test_mul)\n",
            "Test case function for multiplication ... skipped 'Some reason'\n",
            "test_sub (__main__.TestCalculator.test_sub)\n",
            "Test case function for subtraction ... ok\n",
            "\n",
            "----------------------------------------------------------------------\n",
            "Ran 4 tests in 0.019s\n",
            "\n",
            "OK (skipped=1)\n"
          ]
        },
        {
          "data": {
            "text/plain": [
              "<unittest.main.TestProgram at 0x7bddf9115c90>"
            ]
          },
          "execution_count": 6,
          "metadata": {},
          "output_type": "execute_result"
        }
      ],
      "source": [
        "unittest.main(argv=[''], verbosity=2, exit=False)"
      ]
    },
    {
      "cell_type": "markdown",
      "metadata": {
        "id": "SEDtBetneYGz"
      },
      "source": [
        "After running you will see something like:\n",
        "\n",
        "```\n",
        "test_add (__main__.TestCalculator)\n",
        "Test case function for addition ... ok\n",
        "test_div (__main__.TestCalculator)\n",
        "Test case function for division ... FAIL\n",
        "test_mul (__main__.TestCalculator)\n",
        "Test case function for multiplication ... skipped 'Some reason'\n",
        "test_sub (__main__.TestCalculator)\n",
        "Test case function for subtraction ... ok\n",
        "```\n",
        "\n",
        "Where addition and subtraction passed, multiplication was intentionally skipped, and division failed.\n",
        "\n",
        "Unittest has several functions, known as `Assertions`, useful for the development of unit tests. Some are: `assertNotEqual(a, b)`, `assertTrue(x)`, `assertFalse(x)`, `assertIs(a, b)`, `assertIsNot(a, b)`, `assertIsNone(x)`, and much more."
      ]
    },
    {
      "cell_type": "markdown",
      "metadata": {
        "id": "wE5ePgdEcvA-"
      },
      "source": [
        "# **Inheritance and Composition**\n",
        "\n",
        "---\n",
        "\n",
        "## Inheritance\n",
        "\n",
        "Inheritance allows a class (child class) to acquire the properties and methods of another class (parent class). It represents an \"is-a\" relationship.\n",
        "\n",
        "#### Example:\n",
        "A `Dog` is a `Animal`. Therefore, `Dog` can inherit properties and behaviors from the `Animal` class.\n"
      ]
    },
    {
      "cell_type": "code",
      "execution_count": null,
      "metadata": {
        "id": "vuSOr0oIc415"
      },
      "outputs": [],
      "source": [
        "class Animal:\n",
        "    def __init__(self, name):\n",
        "        self.name = name\n",
        "\n",
        "    def speak(self):\n",
        "        print(f\"{self.name} makes a sound\")\n",
        "\n",
        "# Child class inheriting from Animal\n",
        "class Dog(Animal):\n",
        "    def speak(self):\n",
        "        print(f\"{self.name} says Woof!\")\n",
        "\n",
        "# Child class inheriting from Animal\n",
        "class Cat(Animal):\n",
        "    def speak(self):\n",
        "        print(f\"{self.name} says Meow!\")\n",
        "\n",
        "# Example usage\n",
        "dog = Dog(\"Buddy\")\n",
        "dog.speak()  # Output: Buddy says Woof!\n",
        "\n",
        "cat = Cat(\"Kitty\")\n",
        "cat.speak()  # Output: Kitty says Meow!\n"
      ]
    },
    {
      "cell_type": "markdown",
      "metadata": {
        "id": "rYEqPD3Qc5-c"
      },
      "source": [
        "### Key points about inheritance:\n",
        "- The `Dog` and `Cat` classes inherit the `__init__` method from `Animal`.\n",
        "- They override the `speak` method to provide their own implementation.\n",
        "\n",
        "---"
      ]
    },
    {
      "cell_type": "markdown",
      "metadata": {
        "id": "xe1U57Kpc9KT"
      },
      "source": [
        "## Composition\n",
        "\n",
        "Composition is a way to combine objects to build more complex functionality. It represents a \"has-a\" relationship.\n",
        "\n",
        "#### Example:\n",
        "A `Car` has an `Engine`. Instead of inheriting from an `Engine`, the `Car` class uses it as a part of its functionality.\n"
      ]
    },
    {
      "cell_type": "code",
      "execution_count": null,
      "metadata": {
        "id": "pTWtKD-GdGfT"
      },
      "outputs": [],
      "source": [
        "class Engine:\n",
        "    def start(self):\n",
        "        print(\"Engine starts\")\n",
        "\n",
        "    def stop(self):\n",
        "        print(\"Engine stops\")\n",
        "\n",
        "class Car:\n",
        "    def __init__(self):\n",
        "        self.engine = Engine()  # Composition: Car has an Engine\n",
        "\n",
        "    def drive(self):\n",
        "        print(\"Car is driving\")\n",
        "        self.engine.start()\n",
        "\n",
        "    def park(self):\n",
        "        print(\"Car is parked\")\n",
        "        self.engine.stop()\n",
        "\n",
        "# Example usage\n",
        "car = Car()\n",
        "car.drive()  # Output: Car is driving \\n Engine starts\n",
        "car.park()   # Output: Car is parked \\n Engine stops"
      ]
    },
    {
      "cell_type": "markdown",
      "metadata": {
        "id": "gJGH1vMWdIAw"
      },
      "source": [
        "#### Key points about composition:\n",
        "- The `Car` class contains an instance of the `Engine` class.\n",
        "- The `Car` class delegates tasks like `start` and `stop` to the `Engine` object.\n",
        "\n",
        "---\n",
        "\n",
        "\n"
      ]
    },
    {
      "cell_type": "markdown",
      "metadata": {
        "id": "xeZAoBJtfht3"
      },
      "source": [
        "## When to Use Inheritance vs Composition\n",
        "\n",
        "| Inheritance                     | Composition                      |\n",
        "|---------------------------------|----------------------------------|\n",
        "| \"Is-a\" relationship            | \"Has-a\" relationship            |\n",
        "| Share common behavior           | Combine independent behaviors    |\n",
        "| Can lead to tightly coupled code| Promotes loosely coupled design |\n",
        "\n",
        "#### Rule of thumb:\n",
        "- Use inheritance when classes share a significant amount of behavior.\n",
        "- Use composition when you want to combine different behaviors or when behaviors can vary independently.\n",
        "\n",
        "---"
      ]
    },
    {
      "cell_type": "markdown",
      "metadata": {
        "id": "9DPP4v7WdQdH"
      },
      "source": [
        "### Exercise: Inheritance\n",
        "Define a base class `Shape` with a method `area` that prints \"Not implemented\". Create two child classes `Rectangle` and `Circle`. Override the `area` method to calculate and return the area of the respective shape.\n"
      ]
    },
    {
      "cell_type": "code",
      "execution_count": null,
      "metadata": {
        "id": "nq3kNmSbcsqC"
      },
      "outputs": [],
      "source": [
        "import math\n",
        "import unittest\n",
        "# Your code here\n",
        "class Shape:\n",
        "  def area(self):\n",
        "    return \"Not implemented\"\n",
        "\n",
        "class Rectangle(Shape):\n",
        "  def _init_(self,width,height):\n",
        "    self.width = width\n",
        "    self.height = height\n",
        "\n",
        "  def area(self):\n",
        "    return self.width*self.height\n",
        "\n",
        "class Circle(Shape):\n",
        "  def _init_(self,radius):\n",
        "    self.radius = radius\n",
        "\n",
        "  def area(self):\n",
        "    return math.pi * self.radius ** 2\n",
        "\n",
        "\n",
        "# Tests your classes\n",
        "class TestShapes(unittest.TestCase):\n",
        "    def test_rectangle_area(self):\n",
        "        rect = Rectangle(10, 5)\n",
        "        self.assertEqual(rect.area(), 50)\n",
        "    \n",
        "    def test_circle_area(self):\n",
        "        circle = Circle(6)\n",
        "        self.assertAlmostEqual(circle.area(), math.pi * 36)\n",
        "       \n",
        "    def test_shape_area(self):\n",
        "        shape = Shape()\n",
        "        self.assertEqual(shape.area(), \"Not implemented\")\n",
        "\n",
        "\n",
        "unittest.main(argv=[''], verbosity=2, exit=False)\n"
      ]
    },
    {
      "cell_type": "markdown",
      "metadata": {
        "id": "ijH6jDygf3Hx"
      },
      "source": [
        "\n",
        "#### Exercise: Composition\n",
        "Create a class `Book` that has a `Title` and an `Author`. Then, create a `Library` class that can store multiple books. Implement methods to add books to the library and display all books.\n"
      ]
    },
    {
      "cell_type": "code",
      "execution_count": null,
      "metadata": {
        "id": "5rJutIfZf8aG"
      },
      "outputs": [],
      "source": [
        "# Your code here\n",
        "import unittest\n",
        "class Book:\n",
        "  def _init_(self,title,author):\n",
        "    self.title = title\n",
        "    self.author = author\n",
        "\n",
        "  def _str_(self):\n",
        "    return f\"{self.title} by {self.author}\"\n",
        "\n",
        "class Library:\n",
        "  def _init_(self):\n",
        "    self.books = []\n",
        "\n",
        "  def add_book(self,book):\n",
        "    self.books.append(book)\n",
        "\n",
        "  def display_books(self):\n",
        "    return [str(book) for book in self.books]\n",
        "\n",
        "# Test your classes\n",
        "class TestLibrary(unittest.TestCase):\n",
        "    def test_add_book(self):\n",
        "        library = Library()\n",
        "        book = Book(\"Rich Dad Poor Dad\", \"Robert Kiyosaki\")\n",
        "        library.add_book(book)\n",
        "        self.assertIn(book, library.books)\n",
        "    \n",
        "    def test_display_books(self):\n",
        "        library = Library()\n",
        "        book1 = Book(\"Rich Dad Poor Dad\", \"Robert Kiyosaki\")\n",
        "        book2 = Book(\"The Psychology of Money\", \"Morgan Housel\")\n",
        "        library.add_book(book1)\n",
        "        library.add_book(book2)\n",
        "        self.assertEqual(library.display_books(), [\"Rich Dad Poor Dad by Robert Kiyosaki\", \"The Psychology of Money by Morgan Housel\"])\n",
        "\n",
        "unittest.main(argv=[''], verbosity=2, exit=False)\n"
      ]
    },
    {
      "cell_type": "markdown",
      "metadata": {
        "id": "x5pl0wUJjVnT"
      },
      "source": [
        "This workbook was developed by ChatGPT."
      ]
    }
  ],
  "metadata": {
    "colab": {
      "provenance": []
    },
    "kernelspec": {
      "display_name": "Python 3",
      "name": "python3"
    },
    "language_info": {
      "name": "python",
      "version": "3.12.4"
    }
  },
  "nbformat": 4,
  "nbformat_minor": 0
}
