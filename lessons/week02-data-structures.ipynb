{
  "nbformat": 4,
  "nbformat_minor": 0,
  "metadata": {
    "kernelspec": {
      "display_name": "Python 3",
      "language": "python",
      "name": "python3"
    },
    "language_info": {
      "codemirror_mode": {
        "name": "ipython",
        "version": 2
      },
      "file_extension": ".py",
      "mimetype": "text/x-python",
      "name": "python",
      "nbconvert_exporter": "python",
      "pygments_lexer": "ipython2",
      "version": "2.7.6"
    },
    "colab": {
      "provenance": [],
      "include_colab_link": true
    }
  },
  "cells": [
    {
      "cell_type": "markdown",
      "metadata": {
        "id": "view-in-github",
        "colab_type": "text"
      },
      "source": [
        "<a href=\"https://colab.research.google.com/github/khwaishrana/comp215/blob/main/lessons/week02-data-structures.ipynb\" target=\"_parent\"><img src=\"https://colab.research.google.com/assets/colab-badge.svg\" alt=\"Open In Colab\"/></a>"
      ]
    },
    {
      "cell_type": "markdown",
      "source": [
        "# Sequence and Map data structures - Strings, Tuples, Lists, Dictionaries\n",
        "Our week 2 lesson workbook, available on Github from the Hamilton-at-CapU/comp215 repository.\n",
        "\n",
        "As usual, the first code block just imports the modules we will use."
      ],
      "metadata": {
        "id": "WBMC0GrjNRTM"
      }
    },
    {
      "cell_type": "code",
      "execution_count": 99,
      "metadata": {
        "id": "C1a6aDXAM0WM"
      },
      "outputs": [],
      "source": [
        "import datetime\n",
        "from pprint import pprint"
      ]
    },
    {
      "cell_type": "markdown",
      "source": [
        "## f-strings\n",
        "A `string` is a sequence of characters / symbols.\n",
        "This familiar data structure is quite powerful, and format-strings (f-strings) take it to the next level...."
      ],
      "metadata": {
        "collapsed": false,
        "pycharm": {
          "name": "#%% md\n"
        },
        "id": "lc_H-8sDfrIj"
      }
    },
    {
      "cell_type": "code",
      "execution_count": 100,
      "outputs": [
        {
          "output_type": "stream",
          "name": "stdout",
          "text": [
            "0 is not special, but 42 and 3.1415926535 are!\n"
          ]
        }
      ],
      "source": [
        " import datetime # import datetime and day module within the cell\n",
        " today = datetime.date.today()\n",
        " the_answer = 42\n",
        " PI = 3.1415926535\n",
        "\n",
        " # make the next line an f-string that will replace the variable\n",
        " # names today, the_answer and PI with their values\n",
        " my_string = f'{today.weekday()} is not special, but {the_answer} and {PI} are!'\n",
        " print(my_string)"
      ],
      "metadata": {
        "pycharm": {
          "name": "#%%\n"
        },
        "id": "F5-jAvGffrIj",
        "outputId": "88dd64e1-8a77-43c8-897e-481decdb61a0",
        "colab": {
          "base_uri": "https://localhost:8080/"
        }
      }
    },
    {
      "cell_type": "markdown",
      "source": [
        "## List Comprehension\n",
        "Provides a compact syntax for two very common sequence-processing algorithms:  Map  and Filter\n",
        "\n",
        "Basic syntax: ```[f(x) for x in C if g(x)]```\n"
      ],
      "metadata": {
        "id": "k70NJ-JTNwYN"
      }
    },
    {
      "cell_type": "markdown",
      "source": [
        "### Map Algorithm\n",
        "A *map* applies the same function to every item in another sequence (i.e., provide a \"mapping\" from the source sequence to the target)"
      ],
      "metadata": {
        "collapsed": false,
        "pycharm": {
          "name": "#%% md\n"
        },
        "id": "cOsbpC7nfrIk"
      }
    },
    {
      "cell_type": "code",
      "source": [
        " # a basic map\n",
        " data = [1,2,3,4,5,6]\n",
        " squares = []\n",
        " for n in data:\n",
        "   squares.append(n**2)\n",
        " print(f'the squares of {data} are {squares}')\n",
        "\n",
        " # Problem: write the above map loop as a list comprehension\n",
        " [n**2 for n in data]\n"
      ],
      "metadata": {
        "id": "HZSz8IftqJ72",
        "colab": {
          "base_uri": "https://localhost:8080/"
        },
        "outputId": "ca4aaaa8-501f-4cb7-f6e0-491841e74d19"
      },
      "execution_count": 101,
      "outputs": [
        {
          "output_type": "stream",
          "name": "stdout",
          "text": [
            "the squares of [1, 2, 3, 4, 5, 6] are [1, 4, 9, 16, 25, 36]\n"
          ]
        },
        {
          "output_type": "execute_result",
          "data": {
            "text/plain": [
              "[1, 4, 9, 16, 25, 36]"
            ]
          },
          "metadata": {},
          "execution_count": 101
        }
      ]
    },
    {
      "cell_type": "markdown",
      "source": [
        "### Filter\n",
        "A *filter* selects a sub-set of the elements from another sequence based on some criteria."
      ],
      "metadata": {
        "collapsed": false,
        "pycharm": {
          "name": "#%% md\n"
        },
        "id": "PoqXTq1tfrIk"
      }
    },
    {
      "cell_type": "code",
      "execution_count": 102,
      "outputs": [
        {
          "output_type": "stream",
          "name": "stdout",
          "text": [
            "['o', 'e', 'i', 'u', 'o', 'o', 'i', 'a', 'e', 'o', 'e', 'e', 'u', 'a', 'i', 'i', 'i', 'e', 'i', 'e', 'o', 'e', 'i', 'u', 'o', 'e', 'o', 'i', 'i', 'i', 'u', 'u', 'a', 'o', 'e', 'e', 'o', 'o', 'e', 'a', 'a', 'a', 'i', 'u', 'a', 'e', 'i', 'a', 'i', 'i', 'e', 'i', 'a', 'u', 'i', 'o', 'u', 'e', 'e', 'i', 'a', 'i', 'o', 'u', 'a', 'o', 'a', 'o', 'i', 'i', 'i', 'u', 'a', 'i', 'u', 'i', 'e', 'e', 'a', 'o', 'o', 'o', 'o', 'e', 'u', 'a']\n",
            "['oeh', 'eeh', 'ieh', 'ueh', 'oeh', 'oeh', 'ieh', 'aeh', 'eeh', 'oeh', 'eeh', 'eeh', 'ueh', 'aeh', 'ieh', 'ieh', 'ieh', 'eeh', 'ieh', 'eeh', 'oeh', 'eeh', 'ieh', 'ueh', 'oeh', 'eeh', 'oeh', 'ieh', 'ieh', 'ieh', 'ueh', 'ueh', 'aeh', 'oeh', 'eeh', 'eeh', 'oeh', 'oeh', 'eeh', 'aeh', 'aeh', 'aeh', 'ieh', 'ueh', 'aeh', 'eeh', 'ieh', 'aeh', 'ieh', 'ieh', 'eeh', 'ieh', 'aeh', 'ueh', 'ieh', 'oeh', 'ueh', 'eeh', 'eeh', 'ieh', 'aeh', 'ieh', 'oeh', 'ueh', 'aeh', 'oeh', 'aeh', 'oeh', 'ieh', 'ieh', 'ieh', 'ueh', 'aeh', 'ieh', 'ueh', 'ieh', 'eeh', 'eeh', 'aeh', 'oeh', 'oeh', 'oeh', 'oeh', 'eeh', 'ueh', 'aeh']\n"
          ]
        }
      ],
      "source": [
        " # a filter\n",
        "\n",
        " VOWELS = 'aeiou'\n",
        " text = '''\n",
        " Lorem ipsum dolor sit amet, consectetur adipiscing elit, sed do eiusmod tempor incididunt ut labore et dolore magna aliqua. Ut enim ad minim veniam, quis nostrud exercitation ullamco laboris nisi ut aliquip ex ea commodo consequat.\n",
        " '''\n",
        "\n",
        " # Problem: use list comprehension to create a list with just the vowels from the text, in the order they appear in the text.\n",
        " vowels = []\n",
        " for char in text:\n",
        "   if char in VOWELS:\n",
        "     vowels += char\n",
        " print(vowels)\n",
        "\n",
        " print([letter+'eh' for letter in text if letter in VOWELS])\n",
        ""
      ],
      "metadata": {
        "pycharm": {
          "name": "#%%\n"
        },
        "id": "GxuaEMKLfrIk",
        "colab": {
          "base_uri": "https://localhost:8080/"
        },
        "outputId": "2e2a7c06-877b-4699-ef46-0afdde24bdac"
      }
    },
    {
      "cell_type": "markdown",
      "source": [
        "### Functions\n",
        "\n",
        "List comprehension can be used with user defined functions."
      ],
      "metadata": {
        "id": "UqDHuvkWmv_g"
      }
    },
    {
      "cell_type": "code",
      "source": [
        " # list comprehension with functions\n",
        " data = [1,2,3,4,5,6]\n",
        " squares = []\n",
        "\n",
        " def square(x):\n",
        "   ''' Return the square of x. '''\n",
        "   return x*x\n",
        "\n",
        " def even(x):\n",
        "   ''' Return True iff x is even. '''\n",
        "   return x%2==0\n",
        "\n",
        " # a loop that makes a list of the squares of even numbers in data\n",
        " for n in data:\n",
        "   if even(n):\n",
        "     squares.append(square(n))\n",
        " print(f'the squares of even numbers in {data} are {squares}')\n",
        "\n",
        "\n",
        " # Problem: write the above map with filter loop as a list comprehension using the square() and even() functions\n",
        " even_squares = [square(n) for n in data if even(n)]\n",
        " print(even_squares)"
      ],
      "metadata": {
        "id": "A_gueVFNj7hj",
        "colab": {
          "base_uri": "https://localhost:8080/"
        },
        "outputId": "678befa8-ea0d-456b-fcaa-1fcf4190dfb3"
      },
      "execution_count": 103,
      "outputs": [
        {
          "output_type": "stream",
          "name": "stdout",
          "text": [
            "the squares of even numbers in [1, 2, 3, 4, 5, 6] are [4, 16, 36]\n",
            "[4, 16, 36]\n"
          ]
        }
      ]
    },
    {
      "cell_type": "markdown",
      "source": [
        "## Data Wrangling with List Comprehension\n",
        "E-learn's Live Quiz module does track quiz scores for each student, but does not store them in the gradebook,\n",
        "and it reports on them in the most useless way.  Let's do some \"data wrangling\" to make sense out of this mess!\n",
        "\n"
      ],
      "metadata": {
        "collapsed": false,
        "pycharm": {
          "name": "#%% md\n"
        },
        "id": "ltcd27ZlfrIk"
      }
    },
    {
      "cell_type": "code",
      "execution_count": 104,
      "outputs": [],
      "source": [
        "data = \"\"\"\n",
        "  1.                 Ali Oop scored  7/ 8 = 87%\n",
        "\n",
        "\n",
        "  2.         Amolak Singh . scored  8/ 8 = 100%\n",
        "\n",
        "\n",
        "  3.  Arshan Risnot Farquared scored  5/ 8 = 62%\n",
        "\n",
        "\n",
        "  4.       Ayushma Jugernaugh scored  5/ 8 = 62%\n",
        "\n",
        "\n",
        "  5.       Brayden Labaguette scored  7/ 8 = 87%\n",
        "\"\"\""
      ],
      "metadata": {
        "collapsed": true,
        "pycharm": {
          "name": "#%%\n"
        },
        "id": "euvfVg9bfrIk"
      }
    },
    {
      "cell_type": "markdown",
      "source": [
        "\n",
        "Notice it is just a single large string (ie. unstructured).  The real data set has 36 students and needs to be parsed every week, so some structure would be helpful...\n",
        "\n",
        "Turn this into *structured* data: a list of 2-tuples, each student's full name and their integer score."
      ],
      "metadata": {
        "collapsed": false,
        "pycharm": {
          "name": "#%% md\n"
        },
        "id": "7RCZC0Z4frIl"
      }
    },
    {
      "cell_type": "code",
      "execution_count": 105,
      "outputs": [
        {
          "output_type": "stream",
          "name": "stdout",
          "text": [
            "['  1.                 Ali Oop scored  7/ 8 = 87%', '  2.         Amolak Singh . scored  8/ 8 = 100%', '  3.  Arshan Risnot Farquared scored  5/ 8 = 62%', '  4.       Ayushma Jugernaugh scored  5/ 8 = 62%', '  5.       Brayden Labaguette scored  7/ 8 = 87%']\n"
          ]
        },
        {
          "output_type": "error",
          "ename": "ValueError",
          "evalue": "invalid literal for int() with base 10: ' '",
          "traceback": [
            "\u001b[0;31m---------------------------------------------------------------------------\u001b[0m",
            "\u001b[0;31mValueError\u001b[0m                                Traceback (most recent call last)",
            "\u001b[0;32m<ipython-input-105-8703dd052351>\u001b[0m in \u001b[0;36m<cell line: 9>\u001b[0;34m()\u001b[0m\n\u001b[1;32m      7\u001b[0m \u001b[0;31m# 2. make a list of scores for the student in each line\u001b[0m\u001b[0;34m\u001b[0m\u001b[0;34m\u001b[0m\u001b[0m\n\u001b[1;32m      8\u001b[0m \u001b[0;31m#    example: [7, 8, 5, 5, 7]\u001b[0m\u001b[0;34m\u001b[0m\u001b[0;34m\u001b[0m\u001b[0m\n\u001b[0;32m----> 9\u001b[0;31m \u001b[0mscores\u001b[0m \u001b[0;34m=\u001b[0m \u001b[0;34m[\u001b[0m\u001b[0mint\u001b[0m \u001b[0;34m(\u001b[0m\u001b[0ms\u001b[0m\u001b[0;34m[\u001b[0m\u001b[0;34m-\u001b[0m\u001b[0;36m4\u001b[0m\u001b[0;34m]\u001b[0m\u001b[0;34m.\u001b[0m\u001b[0mrstrip\u001b[0m\u001b[0;34m(\u001b[0m\u001b[0;34m'/'\u001b[0m\u001b[0;34m)\u001b[0m\u001b[0;34m)\u001b[0m \u001b[0;32mfor\u001b[0m \u001b[0ms\u001b[0m \u001b[0;32min\u001b[0m \u001b[0mstudents\u001b[0m\u001b[0;34m]\u001b[0m\u001b[0;34m\u001b[0m\u001b[0;34m\u001b[0m\u001b[0m\n\u001b[0m\u001b[1;32m     10\u001b[0m \u001b[0;34m\u001b[0m\u001b[0m\n\u001b[1;32m     11\u001b[0m \u001b[0;31m# 3. make a list of names for the student in each line\u001b[0m\u001b[0;34m\u001b[0m\u001b[0;34m\u001b[0m\u001b[0m\n",
            "\u001b[0;32m<ipython-input-105-8703dd052351>\u001b[0m in \u001b[0;36m<listcomp>\u001b[0;34m(.0)\u001b[0m\n\u001b[1;32m      7\u001b[0m \u001b[0;31m# 2. make a list of scores for the student in each line\u001b[0m\u001b[0;34m\u001b[0m\u001b[0;34m\u001b[0m\u001b[0m\n\u001b[1;32m      8\u001b[0m \u001b[0;31m#    example: [7, 8, 5, 5, 7]\u001b[0m\u001b[0;34m\u001b[0m\u001b[0;34m\u001b[0m\u001b[0m\n\u001b[0;32m----> 9\u001b[0;31m \u001b[0mscores\u001b[0m \u001b[0;34m=\u001b[0m \u001b[0;34m[\u001b[0m\u001b[0mint\u001b[0m \u001b[0;34m(\u001b[0m\u001b[0ms\u001b[0m\u001b[0;34m[\u001b[0m\u001b[0;34m-\u001b[0m\u001b[0;36m4\u001b[0m\u001b[0;34m]\u001b[0m\u001b[0;34m.\u001b[0m\u001b[0mrstrip\u001b[0m\u001b[0;34m(\u001b[0m\u001b[0;34m'/'\u001b[0m\u001b[0;34m)\u001b[0m\u001b[0;34m)\u001b[0m \u001b[0;32mfor\u001b[0m \u001b[0ms\u001b[0m \u001b[0;32min\u001b[0m \u001b[0mstudents\u001b[0m\u001b[0;34m]\u001b[0m\u001b[0;34m\u001b[0m\u001b[0;34m\u001b[0m\u001b[0m\n\u001b[0m\u001b[1;32m     10\u001b[0m \u001b[0;34m\u001b[0m\u001b[0m\n\u001b[1;32m     11\u001b[0m \u001b[0;31m# 3. make a list of names for the student in each line\u001b[0m\u001b[0;34m\u001b[0m\u001b[0;34m\u001b[0m\u001b[0m\n",
            "\u001b[0;31mValueError\u001b[0m: invalid literal for int() with base 10: ' '"
          ]
        }
      ],
      "source": [
        "  # Problem: turn the above unstructured data into a structured data (a list of 2-tuples with full name and score) using list comprehension in each of the following steps\n",
        "\n",
        "  # 1. make a list lines, where each line is a list of words in that line\n",
        "  #    example: [['1.', 'Ali', 'Oop', 'scored', '7/', '8', '=', '87%'], ... ]\n",
        "  students = [s for s in data.split('\\n') if s]\n",
        "  print(students)\n",
        "  # 2. make a list of scores for the student in each line\n",
        "  #    example: [7, 8, 5, 5, 7]\n",
        "  scores = [int (s[-4].rstrip('/')) for s in students]\n",
        "\n",
        "  # 3. make a list of names for the student in each line\n",
        "  #    example: ['Ali Oop', 'Amolak Singh .', 'Arshan Risnot Farquared', 'Ayushma Jugernaugh', 'Brayden Labaguette']\n",
        "\n",
        "\n",
        "  # 4. zip the scores and names lists\n",
        "  #    example: [('Ali Oop', 7), ('Amolak Singh .', 8), ('Arshan Risnot Farquared', 5), ('Ayushma Jugernaugh', 5), ('Brayden Labaguette', 7)]\n"
      ],
      "metadata": {
        "pycharm": {
          "name": "#%%\n"
        },
        "id": "2Ieo-_DPfrIl",
        "colab": {
          "base_uri": "https://localhost:8080/",
          "height": 378
        },
        "outputId": "7aae79a0-0948-458c-a930-3b92dd49de09"
      }
    },
    {
      "cell_type": "markdown",
      "source": [
        "## Records\n",
        "A *record* is a compound data value - a collection of simpler data values (fields) that all describe a single entity.  The above is an example of a tuple as a data record.  Dictionaries can create records that are easier to understand.\n"
      ],
      "metadata": {
        "collapsed": false,
        "id": "vT5weJDvfrIl"
      }
    },
    {
      "cell_type": "code",
      "source": [
        "# Problem: develop a dictionary data representation for the above data, where the name is the key and the grade is the value\n"
      ],
      "metadata": {
        "id": "Ai9qb3Bolw4h"
      },
      "execution_count": null,
      "outputs": []
    },
    {
      "cell_type": "code",
      "execution_count": null,
      "outputs": [],
      "source": [
        "# Challenge Problem: develop an object data representation for the above data (ie. define your own class)\n"
      ],
      "metadata": {
        "pycharm": {
          "name": "#%%\n"
        },
        "id": "oSzmxeBtfrIl"
      }
    }
  ]
}